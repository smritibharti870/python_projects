{
 "cells": [
  {
   "cell_type": "code",
   "execution_count": 1,
   "id": "f4f6deb9",
   "metadata": {},
   "outputs": [
    {
     "name": "stdout",
     "output_type": "stream",
     "text": [
      "Hello smriti\n"
     ]
    }
   ],
   "source": [
    "print('Hello smriti')"
   ]
  },
  {
   "cell_type": "code",
   "execution_count": 5,
   "id": "be7e6b5b",
   "metadata": {
    "collapsed": true
   },
   "outputs": [
    {
     "name": "stdout",
     "output_type": "stream",
     "text": [
      "1 is odd\n",
      "3 is odd\n",
      "5 is odd\n",
      "7 is odd\n",
      "9 is odd\n",
      "11 is odd\n",
      "13 is odd\n",
      "15 is odd\n",
      "17 is odd\n",
      "19 is odd\n",
      "21 is odd\n",
      "23 is odd\n",
      "25 is odd\n",
      "27 is odd\n",
      "29 is odd\n",
      "31 is odd\n",
      "33 is odd\n",
      "35 is odd\n",
      "37 is odd\n",
      "39 is odd\n",
      "41 is odd\n",
      "43 is odd\n",
      "45 is odd\n",
      "47 is odd\n",
      "49 is odd\n",
      "51 is odd\n",
      "53 is odd\n",
      "55 is odd\n",
      "57 is odd\n",
      "59 is odd\n",
      "61 is odd\n",
      "63 is odd\n",
      "65 is odd\n",
      "67 is odd\n",
      "69 is odd\n",
      "71 is odd\n",
      "73 is odd\n",
      "75 is odd\n",
      "77 is odd\n",
      "79 is odd\n",
      "81 is odd\n",
      "83 is odd\n",
      "85 is odd\n",
      "87 is odd\n",
      "89 is odd\n",
      "91 is odd\n",
      "93 is odd\n",
      "95 is odd\n",
      "97 is odd\n",
      "99 is odd\n"
     ]
    }
   ],
   "source": [
    "a = 100\n",
    "b = 2\n",
    "\n",
    "for i in range(a):\n",
    "    if i % b == 1:\n",
    "        print(i ,'is odd')"
   ]
  },
  {
   "cell_type": "code",
   "execution_count": 21,
   "id": "8bb94818",
   "metadata": {
    "scrolled": true
   },
   "outputs": [
    {
     "name": "stdout",
     "output_type": "stream",
     "text": [
      "2 X 0 = 0\n",
      "2 X 1 = 2\n",
      "2 X 2 = 4\n",
      "2 X 3 = 6\n",
      "2 X 4 = 8\n",
      "2 X 5 = 10\n",
      "2 X 6 = 12\n",
      "2 X 7 = 14\n",
      "2 X 8 = 16\n",
      "2 X 9 = 18\n"
     ]
    }
   ],
   "source": [
    "a = 2\n",
    "for i in range(0, 10):\n",
    "        print(a, 'X' ,i, '=', a*i)"
   ]
  },
  {
   "cell_type": "code",
   "execution_count": 36,
   "id": "372fd5ba",
   "metadata": {},
   "outputs": [
    {
     "name": "stdout",
     "output_type": "stream",
     "text": [
      "Driving Licence\n",
      "What is your age?5\n",
      "Sorry, Not Eligible for Driving Licence\n"
     ]
    }
   ],
   "source": [
    "print(\"Driving Licence\")\n",
    "age = int(input(\"What is your age?\"))\n",
    "\n",
    "if age > 18:\n",
    "    print(\"Eligible for Driving Licence\")\n",
    "    Qualification=int(input(\"What is your qualification?\"))\n",
    "    if Qualification >= 8:\n",
    "        print(\"you are Eligible for driving licence\")\n",
    "    else:\n",
    "        print(\"you are not eligible for driving licence\")\n",
    "        \n",
    "else:\n",
    "    print(\"Sorry, Not Eligible for Driving Licence\")\n",
    "\n",
    "\n",
    "\n",
    "\n",
    "\n",
    "\n"
   ]
  },
  {
   "cell_type": "code",
   "execution_count": 51,
   "id": "4e4fd911",
   "metadata": {},
   "outputs": [
    {
     "name": "stdout",
     "output_type": "stream",
     "text": [
      "Netflix\n",
      "What is your age?16\n",
      "What is your Qualification11\n",
      "Eligible for Netflix Child Account\n"
     ]
    }
   ],
   "source": [
    "print(\"Netflix\")\n",
    "\n",
    "age = int(input(\"What is your age?\"))\n",
    "qualification = int(input(\"What is your Qualification\"))\n",
    "\n",
    "if age > 18 and qualification > 12:\n",
    "    print(\" Eligible for Netflix\")\n",
    "    \n",
    "elif age < 18 and qualification > 10:\n",
    "    print(\"Eligible for Netflix Child Account\")\n",
    "    \n",
    "else:\n",
    "    print(\"Not Eligible for Netflix Account\")\n",
    "\n",
    "\n",
    "\n",
    "\n",
    "\n",
    "\n",
    "\n",
    "\n",
    "\n",
    "\n",
    "\n",
    "\n",
    "\n"
   ]
  },
  {
   "cell_type": "code",
   "execution_count": 56,
   "id": "ca0001e1",
   "metadata": {},
   "outputs": [
    {
     "name": "stdout",
     "output_type": "stream",
     "text": [
      "Leap Year\n",
      "which year do you want to check2020\n",
      "This is Leap Year\n"
     ]
    }
   ],
   "source": [
    "print(\"Leap Year\")\n",
    "year = int(input(\"which year do you want to check\"))\n",
    "\n",
    "if year % 4==0:\n",
    "    if year % 100==0:\n",
    "        if year % 400==0:\n",
    "            print(\"This is Leap Year\")\n",
    "        else:\n",
    "            print(\"This is not Leap Year\")\n",
    "    else:\n",
    "        print(\"This is Leap Year\")\n",
    "else:\n",
    "    print(\"This is not leap year\")"
   ]
  },
  {
   "cell_type": "code",
   "execution_count": 64,
   "id": "b536d35f",
   "metadata": {},
   "outputs": [
    {
     "name": "stdout",
     "output_type": "stream",
     "text": [
      "Welcome to the Rollarcoaster!\n",
      "what is your height in cm?120\n",
      "you can ride the rollarcoaster!\n",
      "what is your age?13\n",
      "Youth ticket are 200rs\n",
      "Do you want a photo taken Y or N.y\n",
      "Your final bill is 7\n"
     ]
    }
   ],
   "source": [
    "print(\"Welcome to the Rollarcoaster!\")\n",
    "height = int(input(\"what is your height in cm?\"))\n",
    "bill = 0\n",
    "if height>=120:\n",
    "    print(\"you can ride the rollarcoaster!\")\n",
    "    age = int(input(\"what is your age?\"))\n",
    "    if age<12:\n",
    "        bill=5\n",
    "        print(\"Child ticket are 150rs\")\n",
    "    elif age<=18:\n",
    "        bill=7\n",
    "        print(\"Youth ticket are 200rs\")\n",
    "    else:\n",
    "        bill=12\n",
    "        print(\"Adult ticket are 250rs\")\n",
    "    wants_photo = input(\"Do you want a photo taken Y or N.\")\n",
    "    if wants_photo == \"Y\":\n",
    "        bill+=3\n",
    "    print(f\"Your final bill is {bill}\")\n",
    "else:\n",
    "    print(\"Sorry, you have to grow taller before you can ride.\")\n",
    "         \n",
    "        "
   ]
  },
  {
   "cell_type": "code",
   "execution_count": 7,
   "id": "6e1af477",
   "metadata": {},
   "outputs": [
    {
     "name": "stdout",
     "output_type": "stream",
     "text": [
      "Welcome to Python Pizza Delivery!\n",
      "Select Size of Pizza: S, M or LM\n",
      "do you want to add pepperoni? Y or NY\n",
      "do you want to add extra_cheese? Y or NY\n",
      "Your final is $24\n"
     ]
    }
   ],
   "source": [
    "print(\"Welcome to Python Pizza Delivery!\")\n",
    "size = input(\"Select Size of Pizza: S, M or L\")\n",
    "add_pepperoni = input(\"do you want to add pepperoni? Y or N\")\n",
    "extra_cheese = input(\"do you want to add extra_cheese? Y or N\")\n",
    "\n",
    "bill = 0\n",
    "\n",
    "if size == \"S\":\n",
    "    bill +=15\n",
    "elif size == \"M\":\n",
    "    bill +=20\n",
    "elif size == \"L\":\n",
    "    bill +=25\n",
    "if add_pepperoni == \"Y\":\n",
    "    if size == \"S\":\n",
    "        bill +=2\n",
    "    else:\n",
    "        bill +=3\n",
    "if extra_cheese == \"Y\":\n",
    "    bill +=1\n",
    "\n",
    "print(f\"Your final is ${bill}\")"
   ]
  },
  {
   "cell_type": "code",
   "execution_count": 9,
   "id": "7825e6d6",
   "metadata": {},
   "outputs": [
    {
     "name": "stdout",
     "output_type": "stream",
     "text": [
      "Welcome to the Rollarcoaster!\n",
      "what is your height in cm?120\n",
      "you can ride the rollarcoaster!\n",
      "what is your age?55\n",
      "Everything is going to be ok. Have a free ride on us!\n",
      "Do you want a photo taken Y or N.y\n",
      "Your final bill is 0\n"
     ]
    }
   ],
   "source": [
    "print(\"Welcome to the Rollarcoaster!\")\n",
    "height = int(input(\"what is your height in cm?\"))\n",
    "bill = 0\n",
    "if height>=120:\n",
    "    print(\"you can ride the rollarcoaster!\")\n",
    "    age = int(input(\"what is your age?\"))\n",
    "    if age<12:\n",
    "        bill=5\n",
    "        print(\"Child ticket are 150rs\")\n",
    "    elif age<=18:\n",
    "        bill=7\n",
    "        print(\"Youth ticket are 200rs\")\n",
    "    elif age >= 45 and age <= 55:\n",
    "        print(\"Everything is going to be ok. Have a free ride on us!\")\n",
    "    else:\n",
    "        bill=12\n",
    "        print(\"Adult ticket are 250rs\")\n",
    "        \n",
    "    wants_photo = input(\"Do you want a photo taken Y or N.\")\n",
    "    if wants_photo == \"Y\":\n",
    "        bill+=3\n",
    "    print(f\"Your final bill is {bill}\")\n",
    "else:\n",
    "    print(\"Sorry, you have to grow taller before you can ride.\")"
   ]
  },
  {
   "cell_type": "code",
   "execution_count": 17,
   "id": "af07394e",
   "metadata": {},
   "outputs": [
    {
     "name": "stdout",
     "output_type": "stream",
     "text": [
      "Welcome to the Love Calculator!\n",
      "What is your name? \n",
      "Gaurav Kumar\n",
      "What is your lover name? \n",
      "Smriti Bharti\n",
      "Your score is 81\n"
     ]
    }
   ],
   "source": [
    "print(\"Welcome to the Love Calculator!\")\n",
    "name1 = input(\"What is your name? \\n\")\n",
    "name2 = input(\"What is your lover name? \\n\")\n",
    "\n",
    "combined_string = name1 + name2\n",
    "lower_case_string = combined_string.lower()\n",
    "\n",
    "t=lower_case_string.count(\"t\")\n",
    "r=lower_case_string.count(\"r\")\n",
    "u=lower_case_string.count(\"u\")\n",
    "e=lower_case_string.count(\"e\")\n",
    "\n",
    "true = t+r+u+e\n",
    "\n",
    "l=lower_case_string.count(\"l\")\n",
    "o=lower_case_string.count(\"o\")\n",
    "v=lower_case_string.count(\"v\")\n",
    "e=lower_case_string.count(\"e\")\n",
    "\n",
    "love = l+o+v+e\n",
    "\n",
    "love_score = int(str(true)+str(love))\n",
    "\n",
    "if (love_score<10) or (love_score>90):\n",
    "    print(f\"Your love score is {love_score}, you go together like coke and mentos\")\n",
    "elif(love_score>=40)and(love_score <=50):\n",
    "    print(f\"Your score is {love_score}, you are alright together\")\n",
    "else:\n",
    "    print(f\"Your score is {love_score}\")"
   ]
  },
  {
   "cell_type": "code",
   "execution_count": 10,
   "id": "9dde8ea8",
   "metadata": {},
   "outputs": [
    {
     "data": {
      "text/plain": [
       "'C:\\\\Users\\\\smrit'"
      ]
     },
     "execution_count": 10,
     "metadata": {},
     "output_type": "execute_result"
    }
   ],
   "source": [
    "pwd"
   ]
  },
  {
   "cell_type": "code",
   "execution_count": 9,
   "id": "8388d110",
   "metadata": {},
   "outputs": [
    {
     "name": "stdout",
     "output_type": "stream",
     "text": [
      "Welcome to treasure Island\n",
      "where You want to go? L or R  L\n",
      "where You want to go? L or R  L\n",
      "Which door Red, Blue, Yellow ? Yellow\n",
      "You win\n"
     ]
    }
   ],
   "source": [
    "print(\"Welcome to treasure Island\")\n",
    "choice1 = (input(\"where You want to go? L or R  \"))\n",
    "\n",
    "if choice1=='R':\n",
    "    print('Game Over')\n",
    "elif choice1 == 'L':\n",
    "    choice2 = (input(\"where You want to go? L or R  \"))\n",
    "    \n",
    "    if choice2 == 'R':\n",
    "        print('Game Over')\n",
    "        \n",
    "    elif choice2 == 'L':\n",
    "        choice3 = input('Which door Red, Blue, Yellow ? ')\n",
    "        \n",
    "        if choice3 == 'Red' or choice3 == 'Blue':\n",
    "            print('Game Over')\n",
    "            \n",
    "        elif choice3 == 'Yellow':\n",
    "            print('You win')"
   ]
  },
  {
   "cell_type": "code",
   "execution_count": null,
   "id": "1275a93f",
   "metadata": {},
   "outputs": [],
   "source": []
  }
 ],
 "metadata": {
  "kernelspec": {
   "display_name": "Python 3 (ipykernel)",
   "language": "python",
   "name": "python3"
  },
  "language_info": {
   "codemirror_mode": {
    "name": "ipython",
    "version": 3
   },
   "file_extension": ".py",
   "mimetype": "text/x-python",
   "name": "python",
   "nbconvert_exporter": "python",
   "pygments_lexer": "ipython3",
   "version": "3.9.12"
  }
 },
 "nbformat": 4,
 "nbformat_minor": 5
}
