{
 "cells": [
  {
   "cell_type": "code",
   "execution_count": 66,
   "id": "97ab36db",
   "metadata": {},
   "outputs": [
    {
     "name": "stdout",
     "output_type": "stream",
     "text": [
      "\n",
      " Welcome to hangman game by IT SOURCECODE\n",
      "\n",
      "Enter your name:smriti\n",
      "Hellosmriti!Best of Luck!\n",
      "The game is about to start!\n",
      " Let's paly Hangman!\n"
     ]
    }
   ],
   "source": [
    "import random\n",
    "import time\n",
    "print(\"\\n Welcome to hangman game by IT SOURCECODE\\n\")\n",
    "name=input(\"Enter your name:\")\n",
    "print(\"Hello\" +name +\"!Best of Luck!\")\n",
    "time.sleep(2)\n",
    "print(\"The game is about to start!\\n Let's paly Hangman!\")\n",
    "time.sleep(3)\n",
    "def main():\n",
    "    global count\n",
    "    global display\n",
    "    global word\n",
    "    global already_guessed\n",
    "    global length\n",
    "    global play_game\n",
    "    word_to_guess=[\"january\",\"border\",\"image\",\"film\",\"promise\",\"kids\",\"lungs\",\"doll\",\"rhyme\",\"damage\",\"plants\"]\n",
    "    word=random.choice(word_to_guess)\n",
    "    length=len(word)\n",
    "    count=0\n",
    "    display='_'*length\n",
    "    already_guessed=[]\n",
    "    play_game=\"\"\n",
    "def play_loo():\n",
    "    global play_game\n",
    "    play_game = input(\"Do you want to play again? y=yes, n=no\\n\")\n",
    "    while play_game not in [\"y\",\"n\",\"Y\",\"N\"]:\n",
    "        play_game=input(\"Do you want to play again? y=yes, n=no\\n\")\n",
    "    if play_game == \"y\":\n",
    "        main()\n",
    "    elif play_gam==\"n\":\n",
    "        print(\"Thanks for playing! we except you back again!\")\n",
    "        exit()\n",
    "def hangman():\n",
    "    global count\n",
    "    global display\n",
    "    global word\n",
    "    global already_guessed\n",
    "    global playu_game\n",
    "    limit = 5 \n",
    "    guess = input(\"This is the hangman word:\"+display+\"\\nEnter your guess:\\n\")\n",
    "    guess = guess.strip()\n",
    "    if len(guess.strip()) == 0 or len(guess.strip())>=2 or guess <=\"9\":\n",
    "        print(\"Invalid Input, Try a letter\\n\")\n",
    "        hangman()\n",
    "    elif guess in word:\n",
    "        already_guessed.extend([guess])\n",
    "        index = word.find(guess)\n",
    "        word = word[:index]+\"_\"+word[index +1:]\n",
    "        display = display[:index]+guess+display[index+1:]\n",
    "        print(display +\"\\n\")\n",
    "    elif guess in already_guessed:\n",
    "        print(\"Try another letter.\\n\")\n",
    "    else:\n",
    "        count +=1\n",
    "        if count == 1:\n",
    "            time.sleep(1)\n",
    "            print(\"____\\n\"\n",
    "                \"|   \\n\"\n",
    "                \"|   \\n\"\n",
    "                \"|   \\n\"\n",
    "                \"|   \\n\"\n",
    "                \"|   \\n\"\n",
    "                \"|   \\n\"\n",
    "                \"_|_ \\n\")\n",
    "            print(\"Wrong guess.\"+ str(limit-count)+\"guesses remaining\\n\")\n",
    "        elif count == 2:\n",
    "            time.sleep(1)\n",
    "            print(\"____\\n\"\n",
    "               \"|   |\\n\"\n",
    "               \"|   |\\n\"\n",
    "               \"|   \\n\"\n",
    "               \"|   \\n\"\n",
    "               \"|   \\n\"\n",
    "               \"|   \\n\"\n",
    "               \"_|_ \\n\")\n",
    "            print(\"Wrong guess.\"+ str(limit-count)+\"guesses remaining\\n\")\n",
    "        elif count == 3:\n",
    "            time.sleep(1)\n",
    "            print(\"____\\n\"\n",
    "               \"|   |\\n\"\n",
    "               \"|   |\\n\"\n",
    "               \"|   |\\n\"\n",
    "               \"|   \\n\"\n",
    "               \"|   \\n\"\n",
    "               \"|   \\n\"\n",
    "               \"_|_ \\n\")\n",
    "            print(\"Wrong guess.\"+ str(limit-count)+\"guesses remaining\\n\")\n",
    "        elif count == 4:\n",
    "            time.sleep(1)\n",
    "            print(\"____\\n\"\n",
    "               \"|   |\\n\"\n",
    "               \"|   |\\n\"\n",
    "               \"|   |\\n\"\n",
    "               \"|   O\\n\"\n",
    "               \"|   \\n\"\n",
    "               \"|   \\n\"\n",
    "               \"_|_ \\n\")\n",
    "            print(\"Wrong guess.\"+ str(limit-count)+\"last guess remaining\\n\")\n",
    "        elif count == 5:\n",
    "            time.sleep(1)\n",
    "            print(\"____\\n\"\n",
    "               \"|   |\\n\"\n",
    "               \"|   |\\n\"\n",
    "               \"|   |\\n\"\n",
    "               \"|   O\\n\"\n",
    "               \"|  /|\\\\n\"\n",
    "               \"|  /|\\\\n\"\n",
    "               \"_|_ \\n\")\n",
    "            print(\"Wrong guess. you are hanged!!!\\n\")\n",
    "            print(\"The Word was:\",already_guessed,word)\n",
    "            play_loop()\n",
    "        if word=='_'* length:\n",
    "            print(\"Congrats! You have guessed the word correctly!\")\n",
    "            play_loop()\n",
    "        elif count !=limit:\n",
    "            hangman()\n",
    "            main()\n"
   ]
  },
  {
   "cell_type": "code",
   "execution_count": 68,
   "id": "bf437b0c",
   "metadata": {},
   "outputs": [
    {
     "name": "stdout",
     "output_type": "stream",
     "text": [
      "This is the hangman word:_______\n",
      "Enter your guess:\n",
      "g\n",
      "____\n",
      "|   \n",
      "|   \n",
      "|   \n",
      "|   \n",
      "|   \n",
      "|   \n",
      "_|_ \n",
      "\n",
      "Wrong guess.4guesses remaining\n",
      "\n",
      "This is the hangman word:_______\n",
      "Enter your guess:\n",
      "o\n",
      "____\n",
      "|   |\n",
      "|   |\n",
      "|   \n",
      "|   \n",
      "|   \n",
      "|   \n",
      "_|_ \n",
      "\n",
      "Wrong guess.3guesses remaining\n",
      "\n",
      "This is the hangman word:_______\n",
      "Enter your guess:\n",
      "u\n",
      "___u___\n",
      "\n"
     ]
    }
   ],
   "source": [
    "hangman()"
   ]
  },
  {
   "cell_type": "code",
   "execution_count": 53,
   "id": "be5cf1c4",
   "metadata": {},
   "outputs": [],
   "source": []
  },
  {
   "cell_type": "code",
   "execution_count": 54,
   "id": "a77d8d27",
   "metadata": {},
   "outputs": [],
   "source": []
  },
  {
   "cell_type": "code",
   "execution_count": 55,
   "id": "04454d6b",
   "metadata": {},
   "outputs": [],
   "source": []
  },
  {
   "cell_type": "code",
   "execution_count": null,
   "id": "da6f067e",
   "metadata": {},
   "outputs": [],
   "source": []
  },
  {
   "cell_type": "code",
   "execution_count": 67,
   "id": "bf0f3e23",
   "metadata": {},
   "outputs": [
    {
     "data": {
      "text/plain": [
       "'_______'"
      ]
     },
     "execution_count": 67,
     "metadata": {},
     "output_type": "execute_result"
    }
   ],
   "source": [
    "display"
   ]
  },
  {
   "cell_type": "code",
   "execution_count": 59,
   "id": "1fd48e8d",
   "metadata": {},
   "outputs": [],
   "source": []
  },
  {
   "cell_type": "code",
   "execution_count": 62,
   "id": "eb097aba",
   "metadata": {},
   "outputs": [
    {
     "name": "stdout",
     "output_type": "stream",
     "text": [
      "This is the hangman word:____g_\n",
      "Enter your guess:\n",
      "i\n",
      "____\n",
      "|   \n",
      "|   \n",
      "|   \n",
      "|   \n",
      "|   \n",
      "|   \n",
      "_|_ \n",
      "\n",
      "Wrong guess.4guesses remaining\n",
      "\n",
      "This is the hangman word:____g_\n",
      "Enter your guess:\n",
      "m\n",
      "__m_g_\n",
      "\n"
     ]
    }
   ],
   "source": []
  },
  {
   "cell_type": "code",
   "execution_count": null,
   "id": "c91192e7",
   "metadata": {},
   "outputs": [],
   "source": [
    " print(\"   _____ \\n\"\n",
    "                  \"  |     | \\n\"\n",
    "                  \"  |     |\\n\"\n",
    "                  \"  |     | \\n\"\n",
    "                  \"  |     O \\n\"\n",
    "                  \"  |    /|\\ \\n\"\n",
    "                  \"  |    / \\ \\n\"\n",
    "                  \"__|__\\n\")"
   ]
  },
  {
   "cell_type": "code",
   "execution_count": null,
   "id": "8289a41c",
   "metadata": {},
   "outputs": [],
   "source": []
  }
 ],
 "metadata": {
  "kernelspec": {
   "display_name": "Python 3 (ipykernel)",
   "language": "python",
   "name": "python3"
  },
  "language_info": {
   "codemirror_mode": {
    "name": "ipython",
    "version": 3
   },
   "file_extension": ".py",
   "mimetype": "text/x-python",
   "name": "python",
   "nbconvert_exporter": "python",
   "pygments_lexer": "ipython3",
   "version": "3.9.12"
  }
 },
 "nbformat": 4,
 "nbformat_minor": 5
}
